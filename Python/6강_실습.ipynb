{
  "nbformat": 4,
  "nbformat_minor": 0,
  "metadata": {
    "colab": {
      "provenance": [],
      "include_colab_link": true
    },
    "kernelspec": {
      "name": "python3",
      "display_name": "Python 3"
    },
    "language_info": {
      "name": "python"
    }
  },
  "cells": [
    {
      "cell_type": "markdown",
      "metadata": {
        "id": "view-in-github",
        "colab_type": "text"
      },
      "source": [
        "<a href=\"https://colab.research.google.com/github/sunghomong/UniversityTIL/blob/main/Python/6%EA%B0%95_%EC%8B%A4%EC%8A%B5.ipynb\" target=\"_parent\"><img src=\"https://colab.research.google.com/assets/colab-badge.svg\" alt=\"Open In Colab\"/></a>"
      ]
    },
    {
      "cell_type": "markdown",
      "source": [
        "# 6장 1절"
      ],
      "metadata": {
        "id": "hckgpz65oDBv"
      }
    },
    {
      "cell_type": "code",
      "source": [
        "3 < 6"
      ],
      "metadata": {
        "id": "9LCml0gxO1qJ",
        "outputId": "09b514e7-2548-4625-968c-336c4255a21b",
        "colab": {
          "base_uri": "https://localhost:8080/"
        }
      },
      "execution_count": 1,
      "outputs": [
        {
          "output_type": "execute_result",
          "data": {
            "text/plain": [
              "True"
            ]
          },
          "metadata": {},
          "execution_count": 1
        }
      ]
    },
    {
      "cell_type": "code",
      "source": [
        "3 == 6"
      ],
      "metadata": {
        "id": "G9zysFdtO2pf",
        "outputId": "aa08186c-bee1-4aa6-ed6c-50bf1b138936",
        "colab": {
          "base_uri": "https://localhost:8080/"
        }
      },
      "execution_count": 2,
      "outputs": [
        {
          "output_type": "execute_result",
          "data": {
            "text/plain": [
              "False"
            ]
          },
          "metadata": {},
          "execution_count": 2
        }
      ]
    },
    {
      "cell_type": "code",
      "source": [
        "rad = 10\n",
        "rad == 10"
      ],
      "metadata": {
        "id": "0R1pYgIFO5vx",
        "outputId": "0d43b928-1f9d-4e73-dbb0-18178268c8b9",
        "colab": {
          "base_uri": "https://localhost:8080/"
        }
      },
      "execution_count": 3,
      "outputs": [
        {
          "output_type": "execute_result",
          "data": {
            "text/plain": [
              "True"
            ]
          },
          "metadata": {},
          "execution_count": 3
        }
      ]
    },
    {
      "cell_type": "code",
      "source": [
        "light_on = 3 > 6\n",
        "print(light_on)"
      ],
      "metadata": {
        "id": "O_5jC-zhPC_T",
        "outputId": "38923ce5-fd49-4e86-ff68-faef4e2c0c9e",
        "colab": {
          "base_uri": "https://localhost:8080/"
        }
      },
      "execution_count": 4,
      "outputs": [
        {
          "output_type": "stream",
          "name": "stdout",
          "text": [
            "False\n"
          ]
        }
      ]
    },
    {
      "cell_type": "code",
      "source": [
        "sur = 10\n",
        "vol = 20\n",
        "isStop = sur == vol\n",
        "print(isStop)"
      ],
      "metadata": {
        "id": "zeW4ggB4PH4u",
        "outputId": "be3e3704-6b3f-41e4-8d62-4de7472ecc5c",
        "colab": {
          "base_uri": "https://localhost:8080/"
        }
      },
      "execution_count": 5,
      "outputs": [
        {
          "output_type": "stream",
          "name": "stdout",
          "text": [
            "False\n"
          ]
        }
      ]
    },
    {
      "cell_type": "code",
      "source": [
        "temp = 20\n",
        "fruit = \"apple\"\n",
        "\n",
        "print(temp >= 27 and fruit== \"pear\")"
      ],
      "metadata": {
        "id": "sSSw2smKRJFn",
        "outputId": "a3695067-f4f6-41c9-9ede-82b581d49828",
        "colab": {
          "base_uri": "https://localhost:8080/"
        }
      },
      "execution_count": 9,
      "outputs": [
        {
          "output_type": "stream",
          "name": "stdout",
          "text": [
            "False\n"
          ]
        }
      ]
    },
    {
      "cell_type": "code",
      "source": [
        "temp = 20\n",
        "fruit = \"apple\"\n",
        "\n",
        "print(temp >= 27 or fruit== \"pear\")"
      ],
      "metadata": {
        "id": "nKjkRrbtRU0G",
        "outputId": "38e053c8-e881-40d9-f6d1-dda1727098c3",
        "colab": {
          "base_uri": "https://localhost:8080/"
        }
      },
      "execution_count": 10,
      "outputs": [
        {
          "output_type": "stream",
          "name": "stdout",
          "text": [
            "False\n"
          ]
        }
      ]
    },
    {
      "cell_type": "code",
      "source": [
        "temp = 20\n",
        "fruit = \"apple\"\n",
        "\n",
        "print(not temp <= 27)"
      ],
      "metadata": {
        "id": "dWUxN5naRYXa",
        "outputId": "92dbdf70-d101-4c25-abb4-813ecc06a20c",
        "colab": {
          "base_uri": "https://localhost:8080/"
        }
      },
      "execution_count": 11,
      "outputs": [
        {
          "output_type": "stream",
          "name": "stdout",
          "text": [
            "False\n"
          ]
        }
      ]
    },
    {
      "cell_type": "code",
      "execution_count": 15,
      "metadata": {
        "id": "ZW1w8qQHoAm3",
        "outputId": "e84c2786-b395-4dbc-c18a-c9b5a6229962",
        "colab": {
          "base_uri": "https://localhost:8080/"
        }
      },
      "outputs": [
        {
          "output_type": "stream",
          "name": "stdout",
          "text": [
            "반지름을 입력하세요:20\n",
            "높이를 입력하세요:-3\n",
            "뭘봐\n"
          ]
        }
      ],
      "source": [
        "#반지름 사용자 입력\n",
        "rad = int(input(\"반지름을 입력하세요:\"))\n",
        "#높이 사용자 입력\n",
        "hei = int(input(\"높이를 입력하세요:\"))\n",
        "\n",
        "if rad >= 0 and hei > 0:\n",
        "  #부피&겉넓이 계산\n",
        "  vol = 1/3 * 3.14 * rad ** 2 * hei\n",
        "  suf = 3.14 * rad ** 2 + 3.14 * rad * hei\n",
        "  print(\"원뿔의 부피는\" ,vol, \"입니다.\")\n",
        "  print(\"원뿔의 겉넓이는\" ,suf, \"입니다\")\n",
        "else :\n",
        "  print(\"반지름과 높이의 값을 모두 양수로 입력해주세요\")"
      ]
    },
    {
      "cell_type": "markdown",
      "source": [],
      "metadata": {
        "id": "gIxdfGagpB53"
      }
    },
    {
      "cell_type": "markdown",
      "source": [
        "# 6강 2절"
      ],
      "metadata": {
        "id": "cquz2vj9oGml"
      }
    },
    {
      "cell_type": "markdown",
      "source": [
        "가장 큰 수 찾는 프로그램"
      ],
      "metadata": {
        "id": "_2ZlVieZpKuT"
      }
    },
    {
      "cell_type": "code",
      "source": [
        "# A, B, C 사용자 입력\n",
        "A = int(input(\"A 입력 : \"))\n",
        "B = int(input(\"B 입력 : \"))\n",
        "C = int(input(\"C 입력 : \"))\n",
        "\n",
        "# A, B, C 증 가장 큰 수 출력\n",
        "if A > B :\n",
        "  if A > C :\n",
        "    print(A)\n",
        "  else :\n",
        "    print(C)\n",
        "else :\n",
        "  if B > C :\n",
        "    print(B)\n",
        "  else :\n",
        "    print(C)"
      ],
      "metadata": {
        "id": "SuPkvKRSoJBE",
        "outputId": "8c7d5cdd-bfef-4930-ef6f-fb9e45e0eae1",
        "colab": {
          "base_uri": "https://localhost:8080/"
        }
      },
      "execution_count": 16,
      "outputs": [
        {
          "output_type": "stream",
          "name": "stdout",
          "text": [
            "A 입력 : 10\n",
            "B 입력 : 20\n",
            "C 입력 : 30\n",
            "30\n"
          ]
        }
      ]
    }
  ]
}