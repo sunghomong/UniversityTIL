{
  "nbformat": 4,
  "nbformat_minor": 0,
  "metadata": {
    "colab": {
      "provenance": [],
      "include_colab_link": true
    },
    "kernelspec": {
      "name": "python3",
      "display_name": "Python 3"
    },
    "language_info": {
      "name": "python"
    }
  },
  "cells": [
    {
      "cell_type": "markdown",
      "metadata": {
        "id": "view-in-github",
        "colab_type": "text"
      },
      "source": [
        "<a href=\"https://colab.research.google.com/github/sunghomong/UniversityTIL/blob/main/Python/9%EA%B0%95_%EC%8B%A4%EC%8A%B5(%EC%9B%90%EB%B3%B8).ipynb\" target=\"_parent\"><img src=\"https://colab.research.google.com/assets/colab-badge.svg\" alt=\"Open In Colab\"/></a>"
      ]
    },
    {
      "cell_type": "markdown",
      "source": [
        "# 9강 1절"
      ],
      "metadata": {
        "id": "CAj_VKRq4Mhy"
      }
    },
    {
      "cell_type": "markdown",
      "source": [
        "**원뿔 부피 계산 함수 정의**"
      ],
      "metadata": {
        "id": "-0FrgkDm_YRK"
      }
    },
    {
      "cell_type": "code",
      "execution_count": 1,
      "metadata": {
        "id": "OhGWjvMSf_uP"
      },
      "outputs": [],
      "source": [
        "def prt_cone_vol(r, h) :\n",
        "  if r > 0 and h > 0 :\n",
        "    # r, h 모두 양수일 때\n",
        "    vol = 1/3 * 3.14 * r ** 2 * h\n",
        "    print(\"원뿔의 부피는\", vol, \"입니다.\")\n",
        "  else :\n",
        "    # r, h가 음수일 때\n",
        "    print(\"반지름과 높이 값에 양수를 입력하세요\")\n"
      ]
    },
    {
      "cell_type": "markdown",
      "source": [
        "**원뿔 부피 계산 함수 호출**"
      ],
      "metadata": {
        "id": "ygj-h_dt_elG"
      }
    },
    {
      "cell_type": "code",
      "source": [
        "radius = 20\n",
        "heigth = 30\n",
        "\n",
        "prt_cone_vol(radius,heigth)"
      ],
      "metadata": {
        "id": "Kgl7g457gFnj",
        "colab": {
          "base_uri": "https://localhost:8080/"
        },
        "outputId": "a2c54031-3383-4776-aac3-2e50d6f6bad4"
      },
      "execution_count": 2,
      "outputs": [
        {
          "output_type": "stream",
          "name": "stdout",
          "text": [
            "원뿔의 부피는 12559.999999999998 입니다.\n"
          ]
        }
      ]
    },
    {
      "cell_type": "markdown",
      "source": [
        "**숫자를 입력받고 역순으로 출력하는 함수를 사용한 프로그램 문제**"
      ],
      "metadata": {
        "id": "3T0GpqYK_jXA"
      }
    },
    {
      "cell_type": "code",
      "source": [
        "\n",
        "digits = 3456\n",
        "\n",
        "def reverse_number(num) :\n",
        "  while num != 0 :\n",
        "    digit = num % 10\n",
        "    num = num // 10\n",
        "    print(digit, end=\"\")\n",
        "\n",
        "reverse_number(digits)"
      ],
      "metadata": {
        "id": "nsHHCmKB_pnQ",
        "colab": {
          "base_uri": "https://localhost:8080/"
        },
        "outputId": "8468975d-53aa-4fed-80e0-f0f001b8bd08"
      },
      "execution_count": 6,
      "outputs": [
        {
          "output_type": "stream",
          "name": "stdout",
          "text": [
            "6543"
          ]
        }
      ]
    },
    {
      "cell_type": "markdown",
      "source": [
        "# 9강 2절"
      ],
      "metadata": {
        "id": "bw1IBTsp4wMv"
      }
    },
    {
      "cell_type": "markdown",
      "source": [
        "**원뿔 부피 계산 결과 반환 함수 정의**"
      ],
      "metadata": {
        "id": "454aKvSdAI2a"
      }
    },
    {
      "cell_type": "code",
      "source": [
        "def rtn_cone_vol(r, h) :\n",
        "  if r > 0 and h > 0 :\n",
        "    # r, h 모두 양수일 때\n",
        "    vol = 1/3 * 3.14 * r ** 2 * h\n",
        "    return vol\n",
        "  else :\n",
        "    # r, h가 음수일 때\n",
        "    print(\"반지름과 높이 값에 양수를 입력하세요\")\n",
        "\n",
        "print(format(rtn_cone_vol(10,20),\"<20.3f\"),\"입니다.\")"
      ],
      "metadata": {
        "id": "X8lfqqRBAQfV",
        "colab": {
          "base_uri": "https://localhost:8080/"
        },
        "outputId": "f8d13b32-d330-40f2-f029-5b694e24a191"
      },
      "execution_count": 10,
      "outputs": [
        {
          "output_type": "stream",
          "name": "stdout",
          "text": [
            "2093.333             입니다.\n"
          ]
        }
      ]
    },
    {
      "cell_type": "markdown",
      "source": [
        "**원뿔 부피 및 겉넓이 반환 함수 정의**"
      ],
      "metadata": {
        "id": "Ae2D5Cal_szh"
      }
    },
    {
      "cell_type": "code",
      "source": [
        "def rtn_cone_vol_surf(r, h) :\n",
        "  if r > 0 and h > 0 :\n",
        "    # r, h 모두 양수일 때\n",
        "    vol = 1/3 * 3.14 * r ** 2 * h\n",
        "    surf = 3.14 * r ** 2 + 3.14 * r * h\n",
        "    return vol, surf\n",
        "  else :\n",
        "    # r, h가 음수일 때\n",
        "    print(\"반지름과 높이 값에 양수를 입력하세요\")\n",
        "\n",
        "vol1, surf1 = rtn_cone_vol_surf(50,100)\n",
        "\n",
        "print(vol1, \"입니다. \")\n",
        "print(surf1, \"입니다. \")\n"
      ],
      "metadata": {
        "id": "cwZ6g1au45RD",
        "colab": {
          "base_uri": "https://localhost:8080/"
        },
        "outputId": "b54464f6-9229-4987-8caf-bb3e218bafbb"
      },
      "execution_count": 13,
      "outputs": [
        {
          "output_type": "stream",
          "name": "stdout",
          "text": [
            "261666.66666666666 입니다. \n",
            "23550.0 입니다. \n"
          ]
        }
      ]
    },
    {
      "cell_type": "markdown",
      "source": [
        "**세 개의 사용자 입력을 오름차순으로 정렬하는 함수를 이용하여 정렬된 값을 출력하는 문제**\n"
      ],
      "metadata": {
        "id": "0FMNpd_4Ah9j"
      }
    },
    {
      "cell_type": "code",
      "source": [
        "a = int(input(\"첫번째 숫자를 입력하세요: \"))\n",
        "b = int(input(\"두번째 숫자를 입력하세요: \"))\n",
        "c = int(input(\"세번째 숫자를 입력하세요: \"))\n",
        "\n",
        "def sort3(a, b, c) :\n",
        "  if a > b :\n",
        "    a, b = b, a\n",
        "  if a > c :\n",
        "    a, c = c, a\n",
        "  if b > c :\n",
        "    b, c = c, b\n",
        "    2\n",
        "  print(a,b,c)\n",
        "\n",
        "sort3(a, b, c)\n",
        "print(\"출력이후\", a, b, c)"
      ],
      "metadata": {
        "id": "toh-zjeLArWn",
        "colab": {
          "base_uri": "https://localhost:8080/"
        },
        "outputId": "e60c06c8-100f-4a58-9196-f8765d868256"
      },
      "execution_count": 17,
      "outputs": [
        {
          "output_type": "stream",
          "name": "stdout",
          "text": [
            "첫번째 숫자를 입력하세요: 1\n",
            "두번째 숫자를 입력하세요: 12\n",
            "세번째 숫자를 입력하세요: 1\n",
            "1 1 12\n",
            "출력이후 1 12 1\n"
          ]
        }
      ]
    },
    {
      "cell_type": "markdown",
      "source": [
        "# 9강 3절"
      ],
      "metadata": {
        "id": "7qOMFABd4y1t"
      }
    },
    {
      "cell_type": "markdown",
      "source": [
        "**값의 전달**"
      ],
      "metadata": {
        "id": "pVwxXsFLBCY-"
      }
    },
    {
      "cell_type": "code",
      "source": [
        "def rtn_cone_vol(r, h) :\n",
        "  if r > 0 and h > 0 :\n",
        "    # r, h 모두 양수일 때\n",
        "    vol = 1/3 * 3.14 * r ** 2 * h\n",
        "    r, h = 0, 0\n",
        "    return vol\n",
        "  else :\n",
        "    # r, h가 음수일 때\n",
        "    print(\"반지름과 높이 값에 양수를 입력하세요\")\n",
        "\n",
        "r = 50\n",
        "h = 100\n",
        "print(format( rtn_cone_vol(r,h), \">10.3f\"))\n",
        "print(\"함수사용후\", r, h)"
      ],
      "metadata": {
        "id": "cwoR_CQp45ti",
        "colab": {
          "base_uri": "https://localhost:8080/"
        },
        "outputId": "74a1d0bd-22fc-4f85-fc28-8d6f2c78a1f1"
      },
      "execution_count": 19,
      "outputs": [
        {
          "output_type": "stream",
          "name": "stdout",
          "text": [
            "261666.667\n",
            "함수사용후 50 100\n"
          ]
        }
      ]
    },
    {
      "cell_type": "markdown",
      "source": [
        "**변수의 스코프**"
      ],
      "metadata": {
        "id": "Wybq2K3yBJ8C"
      }
    },
    {
      "cell_type": "code",
      "source": [
        "x = 1\n",
        "print(\"1. x의 값은\", x)\n",
        "\n",
        "def inc(x) :\n",
        "  x = x + 1\n",
        "  print(\"2. x의 값은\", x)\n",
        "\n",
        "\n",
        "inc(x)\n",
        "print(\"3. x의 값은\", x)"
      ],
      "metadata": {
        "id": "6ZuNFN9BBWKR",
        "colab": {
          "base_uri": "https://localhost:8080/"
        },
        "outputId": "b11b2e62-5d67-4211-ced7-8ce1ba0b3d32"
      },
      "execution_count": 20,
      "outputs": [
        {
          "output_type": "stream",
          "name": "stdout",
          "text": [
            "x의 값은 1\n",
            "x의 값은 2\n",
            "3. x의 값은 1\n"
          ]
        }
      ]
    },
    {
      "cell_type": "markdown",
      "source": [
        "**단위 원뿔(반지름 20, 높이 30)의 부피와 겉넓이를 출력하는 문제**"
      ],
      "metadata": {
        "id": "YDpFj9zqBL35"
      }
    },
    {
      "cell_type": "code",
      "source": [
        "# 원뿔 계산 함수 정의\n",
        "def rtn_cone_vol_surf(r = 20, h = 30) :\n",
        "    if r > 0 and h > 0 :\n",
        "        # r, h 모두 양수일 때\n",
        "        # vol = 1/3 * 3.14 * r ** 2 * h\n",
        "        # suf = 3.14 * r ** 2 + 3.14 * r * h\n",
        "        return 1/3 * 3.14 * r ** 2 * h, 3.14 * r ** 2 + 3.14 * r * h\n",
        "    else :\n",
        "        # r, h가 음수일 때\n",
        "        print(\"반지름과 높이 값에 양수를 입력하세요\")\n",
        "\n",
        "print(rtn_cone_vol_surf())"
      ],
      "metadata": {
        "id": "mzWTObQdBXHc",
        "colab": {
          "base_uri": "https://localhost:8080/"
        },
        "outputId": "a9b30cf7-9cb9-42ca-bc25-07a92090ae52"
      },
      "execution_count": 22,
      "outputs": [
        {
          "output_type": "stream",
          "name": "stdout",
          "text": [
            "(12559.999999999998, 3140.0)\n"
          ]
        }
      ]
    },
    {
      "cell_type": "markdown",
      "source": [
        "**여러개의 수를 입력받고 합과 평균을 반환하는는 var_sum_avg 함수를 사용하여, (20, 25, 10, 85, 100, 150)에 대한 합과 평균을 출력하는 프로그램을 작성하시오.**\n"
      ],
      "metadata": {
        "id": "WqqJAJ0ACOjj"
      }
    },
    {
      "cell_type": "code",
      "source": [
        "def var_sum_avg(*numbers) :\n",
        "\n",
        "  sum = 0\n",
        "  count = 0\n",
        "\n",
        "  for i in numbers :\n",
        "    sum = sum + i\n",
        "    count = count + 1\n",
        "\n",
        "  return sum, sum/count\n",
        "\n",
        "print(var_sum_avg(20, 25, 10, 85, 100, 150))"
      ],
      "metadata": {
        "id": "GDZkR-SKCVth",
        "colab": {
          "base_uri": "https://localhost:8080/"
        },
        "outputId": "55b6b135-6baf-4416-912d-c0f35a2e292b"
      },
      "execution_count": 26,
      "outputs": [
        {
          "output_type": "stream",
          "name": "stdout",
          "text": [
            "(390, 65.0)\n"
          ]
        }
      ]
    },
    {
      "cell_type": "code",
      "source": [],
      "metadata": {
        "id": "qimwyKYl00jh"
      },
      "execution_count": null,
      "outputs": []
    },
    {
      "cell_type": "code",
      "source": [],
      "metadata": {
        "id": "D4IQPB5d0xQI"
      },
      "execution_count": null,
      "outputs": []
    },
    {
      "cell_type": "code",
      "source": [],
      "metadata": {
        "id": "mlhjXO0k0sqB"
      },
      "execution_count": null,
      "outputs": []
    }
  ]
}